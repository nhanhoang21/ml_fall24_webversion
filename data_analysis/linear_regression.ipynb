{
 "cells": [
  {
   "cell_type": "markdown",
   "id": "d5209fc7-6fd5-4723-bdca-e481eca2ea2f",
   "metadata": {},
   "source": [
    "In the linear regression analysis for predicting the joint shear strength of fiber-reinforced concrete (FRC) beam-column connections, two distinct methodologies were employed: \n",
    "1) a mechanically consistent approach \n",
    "2) a mechanically inconsistent approach.\n",
    "\n",
    "### Mechanically Consistent Approach:\n",
    "This approach follows the methodology of Jiuru et al. (1992), ensuring that the units and physical relationships between input parameters are preserved. Input parameters are grouped into three distinct contributors (or sub-inputs). This design maintains the model's integrity, interpretability, and physical relevance.\n",
    "\n",
    "### Mechanically Inconsistent Approach:\n",
    "This approach assigns independent weights to each input parameter without considering their differing units. While this unconstrained method is expected to improve predictive accuracy, it lacks mechanical rationale and practical applicability. Despite achieving higher accuracy, the unit inconsistencies and lack of physical relevance render it unsuitable for meaningful insights into the behavior of structural connections."
   ]
  },
  {
   "cell_type": "markdown",
   "id": "e8b1dbd8-0404-4af9-9594-85f2fb094e7e",
   "metadata": {},
   "source": [
    "## MULTIPLE LINEAR REGRESSION - METHOD 1 - MECHANICALLY CONSISTENT"
   ]
  },
  {
   "cell_type": "code",
   "execution_count": 8,
   "id": "5fdbe9f9-7e8d-49ca-9bf9-04aca9c44df1",
   "metadata": {},
   "outputs": [],
   "source": [
    "# Import the necessary libraries\n",
    "import numpy as np\n",
    "import pandas as pd\n",
    "from sklearn.linear_model import LinearRegression\n",
    "from sklearn.metrics import mean_squared_error, mean_absolute_percentage_error, r2_score\n",
    "from sklearn.model_selection import train_test_split\n",
    "import matplotlib.pyplot as plt\n",
    "from tabulate import tabulate\n",
    "from IPython.display import display, Math\n",
    "from scipy.optimize import minimize"
   ]
  },
  {
   "cell_type": "code",
   "execution_count": 9,
   "id": "3214adb9-5a0b-4214-84f1-0442900333bc",
   "metadata": {},
   "outputs": [],
   "source": [
    "# Define jitter function to reduce overlapping points (for visualization purposes that can be found below)\n",
    "def add_jitter(values, scale=0.05):\n",
    "    return values + np.random.uniform(-scale, scale, size=values.shape)"
   ]
  },
  {
   "cell_type": "code",
   "execution_count": 10,
   "id": "591a1ebb-fdf5-47cb-91e5-677e0ad0ed8b",
   "metadata": {},
   "outputs": [],
   "source": [
    "# Load the dataset with column names from the first row\n",
    "data = pd.read_excel('../input_data/dataset.xlsx')"
   ]
  },
  {
   "cell_type": "code",
   "execution_count": 11,
   "id": "2f0afd1d-a5aa-4436-8452-03799ec50f54",
   "metadata": {},
   "outputs": [],
   "source": [
    "# Convert relevant columns to numeric to ensure proper data types (we already know the parameters to be included)\n",
    "columns_to_check = ['n', 'sigcc', 'RI', 'jar', 'fy', 'rogross', 'gamma', 'jointtype']\n",
    "for col in columns_to_check:\n",
    "    data[col] = pd.to_numeric(data[col], errors='coerce')"
   ]
  },
  {
   "cell_type": "code",
   "execution_count": 12,
   "id": "6ee05ec7-69f8-4864-9845-1fbac5ef4f8c",
   "metadata": {},
   "outputs": [],
   "source": [
    "# Calculate the 3 terms for the specified equation format\n",
    "data['term_1_n_fc'] = data['gamma'] * (1 + 0.3 * data['n']) * data['sigcc']  # C1 * gamma * (1 + 0.3 * n) * sigcc\n",
    "data['term_RI_fc'] = data['RI'] * data['sigcc'] / data['jar']  # C2 * RI * sigcc / jar\n",
    "data['term_fy_A0'] = data['gamma'] * data['fy'] * data['rogross']  # C3 * gamma * fy * rogross"
   ]
  },
  {
   "cell_type": "code",
   "execution_count": 13,
   "id": "3ca5c2c0-872f-4420-a1e9-67f8f84291cb",
   "metadata": {},
   "outputs": [],
   "source": [
    "# Select the terms for the model\n",
    "X = data[['term_1_n_fc', 'term_RI_fc', 'term_fy_A0']]\n",
    "y = data['vj']"
   ]
  },
  {
   "cell_type": "code",
   "execution_count": 14,
   "id": "3ebc3a75-c501-41e6-bd53-e3d4b63f7ffb",
   "metadata": {},
   "outputs": [],
   "source": [
    "# Shuffle the dataset for randomness\n",
    "data_shuffled = data.sample(frac=1, random_state=42).reset_index(drop=True)"
   ]
  },
  {
   "cell_type": "code",
   "execution_count": 15,
   "id": "e57c0a25-d290-4961-8966-d9ed3306db48",
   "metadata": {},
   "outputs": [],
   "source": [
    "# Calculate the number of rows for each subset\n",
    "total_rows = data_shuffled.shape[0]\n",
    "train_size = int(0.6 * total_rows)  # 60% for training\n",
    "val_size = int(0.2 * total_rows)    # 20% for validation\n",
    "test_size = total_rows - train_size - val_size  # 20% for test"
   ]
  },
  {
   "cell_type": "code",
   "execution_count": 16,
   "id": "3e89166a-31bf-48cc-b408-3768f70c8d87",
   "metadata": {},
   "outputs": [],
   "source": [
    "# Manually slice the dataset\n",
    "X_train = data_shuffled.iloc[:train_size][['term_1_n_fc', 'term_RI_fc', 'term_fy_A0']]\n",
    "y_train = data_shuffled.iloc[:train_size]['vj']\n",
    "X_val = data_shuffled.iloc[train_size:train_size + val_size][['term_1_n_fc', 'term_RI_fc', 'term_fy_A0']]\n",
    "y_val = data_shuffled.iloc[train_size:train_size + val_size]['vj']\n",
    "X_test = data_shuffled.iloc[train_size + val_size:][['term_1_n_fc', 'term_RI_fc', 'term_fy_A0']]\n",
    "y_test = data_shuffled.iloc[train_size + val_size:]['vj']"
   ]
  },
  {
   "cell_type": "code",
   "execution_count": 17,
   "id": "d9fb2b83-f774-40df-8841-ec5e5064fa55",
   "metadata": {},
   "outputs": [],
   "source": [
    "# Create and train the final linear regression model\n",
    "model = LinearRegression()\n",
    "model.fit(X_train, y_train);"
   ]
  },
  {
   "cell_type": "code",
   "execution_count": 18,
   "id": "b7fa690a-ea93-4b1c-9286-3cdef5afba2c",
   "metadata": {},
   "outputs": [],
   "source": [
    "# Extracting the coefficients\n",
    "C1, C2, C3 = model.coef_"
   ]
  },
  {
   "cell_type": "code",
   "execution_count": 19,
   "id": "b17cd835-d646-4bce-b74a-8743cf9d56b6",
   "metadata": {},
   "outputs": [],
   "source": [
    "# Make predictions using the 'production' approach for validation, test, and entire dataset\n",
    "y_val_pred_production = (\n",
    "    C1 * X_val['term_1_n_fc'] + \n",
    "    C2 * X_val['term_RI_fc'] + \n",
    "    C3 * X_val['term_fy_A0']\n",
    ")\n",
    "y_test_pred_production = (\n",
    "    C1 * X_test['term_1_n_fc'] + \n",
    "    C2 * X_test['term_RI_fc'] + \n",
    "    C3 * X_test['term_fy_A0']\n",
    ")\n",
    "y_all_pred_production = (\n",
    "    C1 * X['term_1_n_fc'] + \n",
    "    C2 * X['term_RI_fc'] + \n",
    "    C3 * X['term_fy_A0']\n",
    ")"
   ]
  },
  {
   "cell_type": "code",
   "execution_count": 20,
   "id": "b3ae6208-38c4-4b8d-9b72-ce0080eb9e25",
   "metadata": {},
   "outputs": [],
   "source": [
    "# Calculate the performance metrics\n",
    "def calculate_metrics(y_true, y_pred):\n",
    "    mse = mean_squared_error(y_true, y_pred)\n",
    "    rmse = np.sqrt(mse)\n",
    "    mpae = mean_absolute_percentage_error(y_true, y_pred) * 100\n",
    "    r = np.corrcoef(y_true, y_pred)[0, 1]  # Correlation coefficient\n",
    "    r2 = r2_score(y_true, y_pred)          # R-squared\n",
    "    return mse, rmse, mpae, r, r2"
   ]
  },
  {
   "cell_type": "code",
   "execution_count": 21,
   "id": "0b1c14f4-272f-46fe-9c16-50939dad22e2",
   "metadata": {},
   "outputs": [],
   "source": [
    "# Metrics for validation, test, and entire dataset\n",
    "mse_val, rmse_val, mpae_val, r_val, r2_val = calculate_metrics(y_val, y_val_pred_production)\n",
    "mse_test, rmse_test, mpae_test, r_test, r2_test = calculate_metrics(y_test, y_test_pred_production)\n",
    "mse_all, rmse_all, mpae_all, r_all, r2_all = calculate_metrics(y, y_all_pred_production)"
   ]
  },
  {
   "cell_type": "code",
   "execution_count": 22,
   "id": "2df2f0ae-a704-4ce9-8f66-fbe281294a5e",
   "metadata": {},
   "outputs": [
    {
     "name": "stdout",
     "output_type": "stream",
     "text": [
      "+----------------+------------+--------------+--------+\n",
      "|                |   Training |   Validation |   Test |\n",
      "+================+============+==============+========+\n",
      "| No. of Samples |         79 |           26 |     27 |\n",
      "+----------------+------------+--------------+--------+\n"
     ]
    }
   ],
   "source": [
    "# Data preparation\n",
    "sample_counts = {\n",
    "    'Training': [len(X_train)],\n",
    "    'Validation': [len(X_val)],\n",
    "    'Test': [len(X_test)]\n",
    "}\n",
    "\n",
    "samples_df = pd.DataFrame(sample_counts, index=['No. of Samples'])\n",
    "print(tabulate(samples_df, headers='keys', tablefmt='grid'))"
   ]
  },
  {
   "cell_type": "code",
   "execution_count": 23,
   "id": "a43d1582-4172-4bfb-89f1-b29ff9888898",
   "metadata": {},
   "outputs": [
    {
     "name": "stdout",
     "output_type": "stream",
     "text": [
      "\n",
      "Evaluation Metrics (Production Approach):\n",
      "+----------------+-------+--------+------------+------+------+\n",
      "| Set            |   MSE |   RMSE |   MPAE (%) |    R |   R² |\n",
      "+================+=======+========+============+======+======+\n",
      "| Validation     |  4.31 |   2.08 |      24.55 | 0.68 | 0.45 |\n",
      "+----------------+-------+--------+------------+------+------+\n",
      "| Entire Dataset |  3.52 |   1.88 |      28.6  | 0.79 | 0.52 |\n",
      "+----------------+-------+--------+------------+------+------+\n"
     ]
    }
   ],
   "source": [
    "results_df = pd.DataFrame({\n",
    "    'Set': ['Validation', 'Entire Dataset'],\n",
    "    'MSE': [round(mse_val, 2), round(mse_all, 2)],\n",
    "    'RMSE': [round(rmse_val, 2), round(rmse_all, 2)],\n",
    "    'MPAE (%)': [round(mpae_val, 2), round(mpae_all, 2)],\n",
    "    'R': [round(r_val, 2), round(r_all, 2)],\n",
    "    'R²': [round(r2_val, 2), round(r2_all, 2)]\n",
    "})\n",
    "table = tabulate(results_df, headers=\"keys\", tablefmt=\"grid\", showindex=False)\n",
    "print(\"\\nEvaluation Metrics (Production Approach):\")\n",
    "print(table)"
   ]
  },
  {
   "cell_type": "code",
   "execution_count": 24,
   "id": "a369642a-a2e5-44af-b4e1-12b72d88ef94",
   "metadata": {},
   "outputs": [
    {
     "data": {
      "text/latex": [
       "$\\displaystyle V_j = \\gamma \\cdot 1.530 \\cdot (1 + 0.3 \\cdot n) \\cdot \\sigma_{cc} + 0.157 \\cdot RI \\cdot \\frac{\\sigma_{cc}}{jar} + \\gamma \\cdot 0.634 \\cdot f_{y} \\cdot \\rho_{gross}$"
      ],
      "text/plain": [
       "<IPython.core.display.Math object>"
      ]
     },
     "metadata": {},
     "output_type": "display_data"
    }
   ],
   "source": [
    "equation = r\"V_j = \\gamma \\cdot {:.3f} \\cdot (1 + 0.3 \\cdot n) \\cdot \\sigma_{{cc}} + {:.3f} \\cdot RI \\cdot \\frac{{\\sigma_{{cc}}}}{{jar}} + \\gamma \\cdot {:.3f} \\cdot f_{{y}} \\cdot \\rho_{{gross}}\".format(C1, C2, C3)\n",
    "display(Math(equation))"
   ]
  },
  {
   "cell_type": "code",
   "execution_count": 25,
   "id": "015940a4-c50b-4b8b-a423-da438d068e2a",
   "metadata": {},
   "outputs": [],
   "source": [
    "# Add jitter for better visualization\n",
    "y_val_pred_jitter = add_jitter(y_val_pred_production, scale=0.01)\n",
    "y_test_pred_jitter = add_jitter(y_test_pred_production, scale=0.01)\n",
    "y_train_pred_jitter = add_jitter(model.predict(X_train), scale=0.01)"
   ]
  },
  {
   "cell_type": "code",
   "execution_count": 26,
   "id": "f47a09a4-f007-4995-af1f-a25ce4c3ce57",
   "metadata": {},
   "outputs": [
    {
     "data": {
      "image/png": "[encoded data removed]",
      "text/plain": [
       "<Figure size 288x288 with 1 Axes>"
      ]
     },
     "metadata": {
      "needs_background": "light"
     },
     "output_type": "display_data"
    }
   ],
   "source": [
    "# Plot for validation set only\n",
    "plt.figure(figsize=(4, 4))  # Smaller figure size\n",
    "plt.scatter(y_val, y_val_pred_jitter, alpha=0.6, color='blue', label='Validation Set', s=30, edgecolors='k')\n",
    "plt.plot([0, 16], [0, 16], 'k--', lw=1.5, label='Perfect Fit')  # Line of perfect fit\n",
    "plt.xlim(0, 16)\n",
    "plt.ylim(0, 16)\n",
    "plt.xlabel('Experimental Strength (MPa)')  # Shortened label\n",
    "plt.ylabel('Predicted Strength (MPa)')\n",
    "plt.title('Exp. vs Pred. Strength (Validation Set)')  # Adjusted title\n",
    "plt.legend(loc='upper left', fontsize=8)  # Smaller legend\n",
    "plt.grid(True, linestyle=':', linewidth=0.5)  # Subtle gridlines\n",
    "plt.gca().set_aspect('equal', adjustable='box')\n",
    "plt.tight_layout()  # Ensure elements fit well\n",
    "plt.savefig('../linear_regression_results/validation_plot_method1.png', dpi =1000)\n",
    "plt.show()"
   ]
  },
  {
   "cell_type": "code",
   "execution_count": 27,
   "id": "806fcb5e-5434-4593-915b-e2c7db568d97",
   "metadata": {},
   "outputs": [
    {
     "data": {
      "image/png": "[encoded data removed]",
      "text/plain": [
       "<Figure size 288x288 with 1 Axes>"
      ]
     },
     "metadata": {
      "needs_background": "light"
     },
     "output_type": "display_data"
    }
   ],
   "source": [
    "# Combined plot for validation, test, and training sets\n",
    "plt.figure(figsize=(4, 4))  # Reduce the size of the figure\n",
    "plt.scatter(y_val, y_val_pred_jitter, alpha=0.6, color='blue', label='Validation Set', s=30, edgecolors='k')\n",
    "plt.scatter(y_train, y_train_pred_jitter, alpha=0.6, color='red', label='Training Set', s=30, edgecolors='k')\n",
    "plt.plot([0, 16], [0, 16], 'k--', lw=1.5, label='Perfect Fit')  # Reduce line width\n",
    "plt.xlim(0, 16)\n",
    "plt.ylim(0, 16)\n",
    "plt.xlabel('Experimental Strength (MPa)')  # Shorten labels\n",
    "plt.ylabel('Predicted Strength (MPa)')\n",
    "plt.title('Exp. vs Pred. Strength (All Sets)')  # Shorten title\n",
    "plt.legend(loc='upper left', fontsize=8)  # Smaller legend\n",
    "plt.grid(True, linestyle=':', linewidth=0.5)  # Subtle grid\n",
    "plt.gca().set_aspect('equal', adjustable='box')\n",
    "plt.tight_layout()  # Ensure all elements fit nicely\n",
    "plt.savefig('../linear_regression_results/validation_training_plot_method1.png', dpi =1000)\n",
    "plt.show()"
   ]
  },
  {
   "cell_type": "markdown",
   "id": "dd42b79f-a361-4fe3-8c03-eac91253c5f0",
   "metadata": {},
   "source": [
    "## MULTIPLE LINEAR REGRESSION - METHOD 2 - MECHANICALLY INCONSISTENT"
   ]
  },
  {
   "cell_type": "code",
   "execution_count": 29,
   "id": "4b218780-c91a-44eb-a854-0057ebecdeb7",
   "metadata": {},
   "outputs": [],
   "source": [
    "# Define jitter function to reduce overlapping points\n",
    "def add_jitter(values, scale=0.01):\n",
    "    return values + np.random.uniform(-scale, scale, size=values.shape)"
   ]
  },
  {
   "cell_type": "code",
   "execution_count": 30,
   "id": "a9fdb6c6-0598-4e0c-b885-f199f6f14b41",
   "metadata": {},
   "outputs": [],
   "source": [
    "# Convert relevant columns to numeric to ensure proper data types\n",
    "columns_to_check = ['sigcc', 'Vf', 'AR', 'bb', 'bc', 'hb', 'hc', 'n', 'fy', 'rogross', 'gamma']\n",
    "for col in columns_to_check:\n",
    "    data[col] = pd.to_numeric(data[col], errors='coerce')"
   ]
  },
  {
   "cell_type": "code",
   "execution_count": 31,
   "id": "3f61e624-80ff-4acf-a037-9dc445e2af65",
   "metadata": {},
   "outputs": [],
   "source": [
    "# Selecting the input features and the output\n",
    "X = data[['sigcc', 'Vf', 'AR', 'bb', 'bc', 'hb', 'hc', 'n', 'fy', 'rogross']]\n",
    "y = data['vj']\n",
    "gamma = data['gamma']"
   ]
  },
  {
   "cell_type": "code",
   "execution_count": 32,
   "id": "cb2bd57c-d154-453d-aca0-0da006e47a8a",
   "metadata": {},
   "outputs": [],
   "source": [
    "# Define a function to fit linear regression with non-negative constraints\n",
    "def constrained_linear_regaression(X, y, gamma):\n",
    "    # Initial guess for coefficients\n",
    "    initial_coeffs = np.ones(X.shape[1])"
   ]
  },
  {
   "cell_type": "code",
   "execution_count": 33,
   "id": "2fab73fc-d76c-4e19-9966-7e4a2a44420f",
   "metadata": {},
   "outputs": [],
   "source": [
    "# Define a function to fit linear regression with non-negative constraints\n",
    "def constrained_linear_regression(X, y, gamma):\n",
    "    # Initial guess for coefficients\n",
    "    initial_coeffs = np.ones(X.shape[1])\n",
    "\n",
    "    # Define the objective function (MSE)\n",
    "    def objective_function(coeffs):\n",
    "        preds = gamma * np.dot(X, coeffs)\n",
    "        mse = mean_squared_error(y, preds)\n",
    "        return mse\n",
    "\n",
    "    # Constraints: non-negative coefficients for specific variables\n",
    "    constraints = [{'type': 'ineq', 'fun': lambda coeffs: coeffs[i]} \n",
    "                   for i in [0, 1, 2, 9]]  # Indices for 'sigcc', 'Vf', 'AR', 'rogross'\n",
    "\n",
    "    # Minimize the objective function with constraints\n",
    "    result = minimize(objective_function, initial_coeffs, constraints=constraints)\n",
    "\n",
    "    return result.x  # Return the optimized coefficients"
   ]
  },
  {
   "cell_type": "code",
   "execution_count": 34,
   "id": "0e1e76d7-3111-42e9-9dfd-cc592d540ed2",
   "metadata": {},
   "outputs": [],
   "source": [
    "# Fit the model with constraints\n",
    "optimized_coeffs = constrained_linear_regression(X, y, gamma)"
   ]
  },
  {
   "cell_type": "code",
   "execution_count": 35,
   "id": "fe7cdab4-dac1-46ec-b227-e48299e79e5c",
   "metadata": {},
   "outputs": [],
   "source": [
    "# Calculating predictions for the entire dataset using the production equation\n",
    "y_pred_production = gamma * np.dot(X, optimized_coeffs)"
   ]
  },
  {
   "cell_type": "code",
   "execution_count": 36,
   "id": "611908c2-339b-46d6-8721-b4fe33ce8b4d",
   "metadata": {},
   "outputs": [],
   "source": [
    "# Splitting the data into training, validation, and test sets (60/20/20)\n",
    "X_train, X_temp, y_train, y_temp, gamma_train, gamma_temp = train_test_split(\n",
    "    X, y, gamma, test_size=0.4, random_state=42)\n",
    "X_val, X_test, y_val, y_test, gamma_val, gamma_test = train_test_split(\n",
    "    X_temp, y_temp, gamma_temp, test_size=0.5, random_state=42)"
   ]
  },
  {
   "cell_type": "code",
   "execution_count": 37,
   "id": "b985b19e-9c32-41cd-9845-893c44af9181",
   "metadata": {},
   "outputs": [],
   "source": [
    "# Predictions for validation and test sets\n",
    "y_train_pred = gamma_train * np.dot(X_train, optimized_coeffs)\n",
    "y_val_pred = gamma_val * np.dot(X_val, optimized_coeffs)\n",
    "y_test_pred = gamma_test * np.dot(X_test, optimized_coeffs)"
   ]
  },
  {
   "cell_type": "code",
   "execution_count": 38,
   "id": "5428d4d1-4752-4999-a2f8-12fb03583893",
   "metadata": {},
   "outputs": [],
   "source": [
    "# Calculating performance metrics for validation and test sets\n",
    "mse_val = mean_squared_error(y_val, y_val_pred)\n",
    "rmse_val = np.sqrt(mse_val)\n",
    "r2_val = r2_score(y_val, y_val_pred)\n",
    "mpae_val = np.mean(np.abs((y_val - y_val_pred) / y_val) * 100)\n",
    "r_val = np.corrcoef(y_val, y_val_pred)[0, 1]  # Calculate R for validation set\n",
    "\n",
    "mse_test = mean_squared_error(y_test, y_test_pred)\n",
    "rmse_test = np.sqrt(mse_test)\n",
    "r2_test = r2_score(y_test, y_test_pred)\n",
    "mpae_test = np.mean(np.abs((y_test - y_test_pred) / y_test) * 100)\n",
    "r_test = np.corrcoef(y_test, y_test_pred)[0, 1]  # Calculate R for test set\n",
    "\n",
    "mse_train = mean_squared_error(y_train, y_train_pred)\n",
    "rmse_train = np.sqrt(mse_train)\n",
    "r2_train = r2_score(y_train, y_train_pred)\n",
    "mpae_train = np.mean(np.abs((y_train - y_train_pred) / y_train) * 100)\n",
    "r_train = np.corrcoef(y_train, y_train_pred)[0, 1]  # Calculate R for training set"
   ]
  },
  {
   "cell_type": "code",
   "execution_count": 39,
   "id": "08c8c6d8-71b6-407e-b415-263555f015c6",
   "metadata": {},
   "outputs": [
    {
     "name": "stdout",
     "output_type": "stream",
     "text": [
      "\n",
      "Performance Metrics:\n",
      "+------------+-------+------------+--------+------+------+\n",
      "| Set        |   MSE |   MPAE (%) |   RMSE |    R |   R² |\n",
      "+============+=======+============+========+======+======+\n",
      "| Training   |  1.68 |      18.12 |   1.30 | 0.91 | 0.80 |\n",
      "+------------+-------+------------+--------+------+------+\n",
      "| Validation |  1.90 |      15.51 |   1.38 | 0.75 | 0.49 |\n",
      "+------------+-------+------------+--------+------+------+\n"
     ]
    }
   ],
   "source": [
    "# Prepare the performance metrics\n",
    "results_df = pd.DataFrame({\n",
    "    'Set': ['Training', 'Validation'],\n",
    "    'MSE': [mse_train, mse_val],\n",
    "    'MPAE (%)': [mpae_train, mpae_val],\n",
    "    'RMSE': [rmse_train, rmse_val],\n",
    "    'R': [r_train, r_val],  # Include R\n",
    "    'R²': [r2_train, r2_val]\n",
    "})\n",
    "\n",
    "# Format and display the table\n",
    "print(\"\\nPerformance Metrics:\")\n",
    "formatted_table = tabulate(results_df, headers='keys', tablefmt='grid', showindex=False, floatfmt=\".2f\")\n",
    "print(formatted_table)\n"
   ]
  },
  {
   "cell_type": "code",
   "execution_count": 40,
   "id": "3169ed88-e4cc-444e-9439-8c95a6a1b857",
   "metadata": {},
   "outputs": [
    {
     "name": "stdout",
     "output_type": "stream",
     "text": [
      "\n",
      "Optimized Coefficients:\n",
      "+---------------+---------+\n",
      "| Coefficient   |   Value |\n",
      "+===============+=========+\n",
      "| sigcc         |   1.366 |\n",
      "+---------------+---------+\n",
      "| Vf            |  50.593 |\n",
      "+---------------+---------+\n",
      "| AR            |   0.005 |\n",
      "+---------------+---------+\n",
      "| bb            |   0.018 |\n",
      "+---------------+---------+\n",
      "| bc            |  -0.011 |\n",
      "+---------------+---------+\n",
      "| hb            |  -0.024 |\n",
      "+---------------+---------+\n",
      "| hc            |   0.022 |\n",
      "+---------------+---------+\n",
      "| n             |   3.88  |\n",
      "+---------------+---------+\n",
      "| fy            |   0.001 |\n",
      "+---------------+---------+\n",
      "| rogross       |  -0     |\n",
      "+---------------+---------+\n"
     ]
    }
   ],
   "source": [
    "coeff_names = ['sigcc', 'Vf', 'AR', 'bb', 'bc', 'hb', 'hc', 'n', 'fy', 'rogross']\n",
    "table_data = [[name, f\"{coeff:.3f}\"] for name, coeff in zip(coeff_names, optimized_coeffs)]\n",
    "print(\"\\nOptimized Coefficients:\")\n",
    "print(tabulate(table_data, headers=[\"Coefficient\", \"Value\"], tablefmt=\"grid\"))"
   ]
  },
  {
   "cell_type": "code",
   "execution_count": 41,
   "id": "2c48c02f-fe09-4e46-84a6-a57e02a2cfbc",
   "metadata": {},
   "outputs": [
    {
     "data": {
      "text/latex": [
       "$\\displaystyle V_j = \\gamma \\cdot \\left[ 1.366 \\cdot \\sigma_{cc} + 50.593 \\cdot V_{f} + 0.005 \\cdot AR + 0.018 \\cdot b_{b} + -0.011 \\cdot b_{c} + -0.024 \\cdot h_{b} + 0.022 \\cdot h_{c} + 3.880 \\cdot n + 0.001 \\cdot f_{y} + -0.000 \\cdot \\rho_{gross} \\right]$"
      ],
      "text/plain": [
       "<IPython.core.display.Math object>"
      ]
     },
     "metadata": {},
     "output_type": "display_data"
    }
   ],
   "source": [
    "# Define the coefficient names and optimized coefficients\n",
    "coeff_names_latex = [\n",
    "    r\"\\sigma_{cc}\", r\"V_{f}\", r\"AR\", r\"b_{b}\",\n",
    "    r\"b_{c}\", r\"h_{b}\", r\"h_{c}\", r\"n\", r\"f_{y}\", r\"\\rho_{gross}\"\n",
    "]\n",
    "# Format each term of the equation using LaTeX\n",
    "equation_terms = \" + \".join([\n",
    "    f\"{coeff:.3f} \\\\cdot {name}\" for coeff, name in zip(optimized_coeffs, coeff_names_latex)\n",
    "])\n",
    "# Create the full equation\n",
    "equation = rf\"V_j = \\gamma \\cdot \\left[ {equation_terms} \\right]\"\n",
    "# Display the equation\n",
    "display(Math(equation))"
   ]
  },
  {
   "cell_type": "code",
   "execution_count": 42,
   "id": "b260c20e-f309-439c-bfc2-348fa6887043",
   "metadata": {},
   "outputs": [],
   "source": [
    "# Plotting function for validation, test, and training sets\n",
    "def plot_results(y_true, y_pred, title, color, label):\n",
    "    plt.figure(figsize=(4, 4))\n",
    "    plt.scatter(y_true, add_jitter(y_pred), alpha=0.6, color=color, label=label, s=50, edgecolors='k')\n",
    "    plt.plot([0, 16], [0, 16], 'k--', lw=2, label='Perfect Fit')\n",
    "    plt.xlim(0, 16)\n",
    "    plt.ylim(0, 16)\n",
    "    plt.xlabel('Experimental Joint Shear Strength')\n",
    "    plt.ylabel('Predicted Joint Shear Strength')\n",
    "    plt.title(title)\n",
    "    plt.legend()\n",
    "    plt.grid(True)\n",
    "    plt.gca().set_aspect('equal', adjustable='box')\n",
    "    plt.savefig('../linear_regression_results/validation_training_plot_method2.png', dpi =1000)\n",
    "    plt.show()"
   ]
  },
  {
   "cell_type": "code",
   "execution_count": 43,
   "id": "af6dcd9d-1088-4953-b38f-edf348cf7008",
   "metadata": {},
   "outputs": [
    {
     "data": {
      "image/png": "[encoded data removed]",
      "text/plain": [
       "<Figure size 288x288 with 1 Axes>"
      ]
     },
     "metadata": {
      "needs_background": "light"
     },
     "output_type": "display_data"
    }
   ],
   "source": [
    "# Plotting validation results\n",
    "plot_results(y_val, y_val_pred, 'Experimental vs. Predicted Joint Shear Strength (Validation Set)', 'blue', 'Validation Set')"
   ]
  },
  {
   "cell_type": "code",
   "execution_count": 44,
   "id": "7e31d193-477b-4d41-8365-86dc452d51d7",
   "metadata": {},
   "outputs": [
    {
     "data": {
      "image/png": "[encoded data removed]",
      "text/plain": [
       "<Figure size 288x288 with 1 Axes>"
      ]
     },
     "metadata": {
      "needs_background": "light"
     },
     "output_type": "display_data"
    }
   ],
   "source": [
    "# Combined plot for training, validation, and test sets\n",
    "plt.figure(figsize=(4, 4))\n",
    "plt.scatter(y_train, add_jitter(y_train_pred), alpha=0.6, color='red', label='Training Set', s=50, edgecolors='k')\n",
    "plt.scatter(y_val, add_jitter(y_val_pred), alpha=0.6, color='blue', label='Validation Set', s=50, edgecolors='k')\n",
    "plt.plot([0, 16], [0, 16], 'k--', lw=2, label='Perfect Fit')\n",
    "plt.xlim(0, 16)\n",
    "plt.ylim(0, 16)\n",
    "plt.xlabel('Experimental Joint Shear Strength')\n",
    "plt.ylabel('Predicted Joint Shear Strength')\n",
    "plt.title('Experimental vs. Predicted Joint Shear Strength (Combined Sets)')\n",
    "plt.legend()\n",
    "plt.grid(True)\n",
    "plt.gca().set_aspect('equal', adjustable='box')\n",
    "plt.savefig('../linear_regression_results/validation_plot_method2.png', dpi =1000)\n",
    "plt.show()"
   ]
  },
  {
   "cell_type": "code",
   "execution_count": null,
   "id": "38408159-b8cc-44b3-9bd4-d4a61e5e354e",
   "metadata": {},
   "outputs": [],
   "source": []
  }
 ],
 "metadata": {
  "kernelspec": {
   "display_name": "Python 3 (ipykernel)",
   "language": "python",
   "name": "python3"
  },
  "language_info": {
   "codemirror_mode": {
    "name": "ipython",
    "version": 3
   },
   "file_extension": ".py",
   "mimetype": "text/x-python",
   "name": "python",
   "nbconvert_exporter": "python",
   "pygments_lexer": "ipython3",
   "version": "3.9.18"
  }
 },
 "nbformat": 4,
 "nbformat_minor": 5
}
